{
  "cells": [
    {
      "cell_type": "markdown",
      "metadata": {
        "id": "view-in-github",
        "colab_type": "text"
      },
      "source": [
        "<a href=\"https://colab.research.google.com/github/prosto31/dap-2024/blob/main/les02/%D0%9B%D1%802_%D0%9A%D0%BE%D0%B2%D0%B0%D0%BB%D0%B5%D0%BD%D0%BA%D0%BE_12002208.ipynb\" target=\"_parent\"><img src=\"https://colab.research.google.com/assets/colab-badge.svg\" alt=\"Open In Colab\"/></a>"
      ]
    },
    {
      "cell_type": "markdown",
      "metadata": {
        "id": "ltcKEinLkvAl"
      },
      "source": [
        "# Лабораторная работа №2. Основы Python\n",
        "по дисциплине \"Анализ данных на Python\".<br>\n",
        "студента очного отделения<br>\n",
        "3 курса 12002208 группы<br>\n",
        "Коваленко Денис Дмитриевич.\n",
        "<br><br>\n",
        "Проверил<br>\n",
        "Чеботарев Сергей Александрович<br><br>"
      ]
    },
    {
      "cell_type": "markdown",
      "metadata": {
        "id": "cLzc_phvkvAo"
      },
      "source": [
        "## Задание"
      ]
    },
    {
      "cell_type": "markdown",
      "metadata": {
        "id": "kayDV1aBkvAp"
      },
      "source": [
        "Выполните следующие задания:\n",
        "\n",
        "1. Откройте в файл в Google Colab (используйте собственный форк репозитория).\n",
        "2. Решите задачи.\n",
        "3. Сохраните результат в ваш репозиторий github в директорию ./les02\n",
        "4. Создайте pull request в репозиторий https://github.com/chebotarevsa/dap-2024. Название pull request должно иметь формат \"<Номер лабораторной работы>  <Номер группы> <ФИО>\"\n",
        "5. Сдайте работу в системе \"Пегас\", в отчет укажите ссылку на pull request"
      ]
    },
    {
      "cell_type": "markdown",
      "metadata": {
        "id": "AJTZl92IkvAr"
      },
      "source": [
        "Задача №1. https://leetcode.com/problems/two-sum/"
      ]
    },
    {
      "cell_type": "code",
      "execution_count": null,
      "metadata": {
        "id": "RJx_O3vdkvAs"
      },
      "outputs": [],
      "source": [
        "class Solution:\n",
        "    def twoSum(self, nums: List[int], target: int) -> List[int]:\n",
        "        numindex = {}\n",
        "        for index, num in enumerate(nums):\n",
        "            compl = target - num\n",
        "            if compl in numindex:\n",
        "                return [numindex[compl], index]\n",
        "            numindex[num] = index\n",
        "        return []"
      ]
    },
    {
      "cell_type": "markdown",
      "metadata": {
        "id": "0TuqhPRjkvAt"
      },
      "source": [
        "Задача №2. https://leetcode.com/problems/palindrome-number/description/"
      ]
    },
    {
      "cell_type": "code",
      "execution_count": null,
      "metadata": {
        "id": "-nqNJwvlkvAv"
      },
      "outputs": [],
      "source": [
        "class Solution:\n",
        "    def isPalindrome(self, x: int) -> bool:\n",
        "        if x < 0 or (x % 10 == 0 and x != 0):\n",
        "            return False\n",
        "        strx = str(x)\n",
        "        return strx == strx[::-1]"
      ]
    },
    {
      "cell_type": "markdown",
      "metadata": {
        "id": "qiSO60i_kvAw"
      },
      "source": [
        "Задача №3. https://leetcode.com/problems/roman-to-integer/description/"
      ]
    },
    {
      "cell_type": "code",
      "execution_count": null,
      "metadata": {
        "id": "ceAztWbZkvAw"
      },
      "outputs": [],
      "source": [
        "class Solution:\n",
        "    def romanToInt(self, s: str) -> int:\n",
        "        rmap = {\n",
        "            'I': 1,\n",
        "            'V': 5,\n",
        "            'X': 10,\n",
        "            'L': 50,\n",
        "            'C': 100,\n",
        "            'D': 500,\n",
        "            'M': 1000\n",
        "        }\n",
        "        tol = 0\n",
        "        prval = 0\n",
        "        for char in reversed(s):\n",
        "            curval = rmap[char]\n",
        "            if curval < prval:\n",
        "                tol -= curval\n",
        "            else:\n",
        "                tol += curval\n",
        "            prval = curval\n",
        "        return tol"
      ]
    },
    {
      "cell_type": "markdown",
      "metadata": {
        "id": "pXbaZIHOkvAx"
      },
      "source": [
        "Задача №4. https://leetcode.com/problems/longest-common-prefix/description/"
      ]
    },
    {
      "cell_type": "code",
      "execution_count": null,
      "metadata": {
        "id": "kU3yHdSTkvAy"
      },
      "outputs": [],
      "source": [
        "class Solution:\n",
        "    def longestCommonPrefix(self, strs: List[str]) -> str:\n",
        "        if not strs:\n",
        "            return \"\"\n",
        "        pref = strs[0]\n",
        "        for string in strs[1:]:\n",
        "            while string[:len(pref)] != pref:\n",
        "                pref = pref[:-1]\n",
        "                if pref == \"\":\n",
        "                    return \"\"\n",
        "        return pref"
      ]
    },
    {
      "cell_type": "markdown",
      "metadata": {
        "id": "n-4Kbv5VkvAy"
      },
      "source": [
        "Задача №5. https://leetcode.com/problems/merge-two-sorted-lists/description/"
      ]
    },
    {
      "cell_type": "code",
      "execution_count": null,
      "metadata": {
        "id": "xh0Bi9cOkvAz"
      },
      "outputs": [],
      "source": [
        "class Solution:\n",
        "    def mergeTwoLists(self, list1: ListNode, list2: ListNode) -> ListNode:\n",
        "        dum = ListNode()\n",
        "        tail = dum\n",
        "        while list1 and list2:\n",
        "            if list1.val < list2.val:\n",
        "                tail.next = list1\n",
        "                list1 = list1.next\n",
        "            else:\n",
        "                tail.next = list2\n",
        "                list2 = list2.next\n",
        "            tail = tail.next\n",
        "        if list1:\n",
        "            tail.next = list1\n",
        "        elif list2:\n",
        "            tail.next = list2\n",
        "        return dum.next"
      ]
    },
    {
      "cell_type": "markdown",
      "metadata": {
        "id": "94zgBtqfkvAz"
      },
      "source": [
        "Задача №6. https://leetcode.com/problems/longest-substring-without-repeating-characters/description/"
      ]
    },
    {
      "cell_type": "code",
      "execution_count": null,
      "metadata": {
        "id": "9SBadeHvkvA0"
      },
      "outputs": [],
      "source": [
        "class Solution:\n",
        "    def lengthOfLongestSubstring(self, s: str) -> int:\n",
        "        n = len(s)\n",
        "        charset = set()\n",
        "        lt = 0\n",
        "        maxrz = 0\n",
        "        for rig in range(n):\n",
        "            while s[rig] in charset:\n",
        "                charset.remove(s[lt])\n",
        "                lt += 1\n",
        "            charset.add(s[rig])\n",
        "            maxrz = max(maxrz, rig - lt + 1)\n",
        "        return maxrz"
      ]
    },
    {
      "cell_type": "markdown",
      "metadata": {
        "id": "LNK1C_UxkvA0"
      },
      "source": [
        "## Вопросы\n",
        "\n",
        "1. Что такое динамическая типизация и чем она отличается от статической?<i>Динамическая типизация: тип переменных определяется во время выполнения программы. Например, в Python переменная может менять свой тип в процессе работы.Статическая типизация: тип переменных известен на этапе компиляции. Например, в C++ нужно явно указывать тип переменной при её объявлении.</i>\n",
        "2. Чем отличается цикл for в Python от цикла for в С++?<i>Python: цикл for использует итераторы, позволяет итерироваться по объектам, таким как списки и строки, не требуя явного указания индекса.C++: цикл for традиционно использует контроль индексации, также есть поддержка диапазонов с C++11, но синтаксис отличается от Python.</i>\n",
        "3. Для чего предназначены операторы continue и break?<i>continue: пропускает оставшуюся часть текущей итерации и переходит к следующей итерации цикла.break: завершает выполнение цикла полностью, выходя из него.</i>\n",
        "4. Как определить функцию в python? Может ли функция возвращать несколько значений?<i>Функция определяется с помощью ключевого слова def:\n",
        "def my_function():\n",
        "return \"Hello\"</i>\n",
        "5. Что такое лямбда функции и для чего они предназначены?<i>Это анонимные функции, которые можно определять на месте с помощью ключевого слова lambda. Используются для создания небольших функций без необходимости их явного определения.</i>\n",
        "6. Может ли тело функции содержать определение другой функции?<i>Да, функция может содержать определение другой функции, это называется вложенной функцией (или внутренней функцией).</i>\n",
        "7. Как определить класс в python? Для чего нужна переменная self?<i></i>\n",
        "8. Как определить приватный метод? Можно ли вызвать приватный метод за пределами класса?<i>Класс определяется с помощью ключевого слова class, например:\n",
        "class MyClass: def __init__(self): self.variable = 0 </i>\n",
        "9. Как определить статический метод класса? Для чего может понадобиться статический метод?<i>Приватный метод определяется с использованием одного или двух подчеркиваний перед именем:def __private_method(self):</i>\n",
        "10. Чем staticmethod отличается от classmethod?<i>Статический метод определяется с помощью декоратора @staticmethod, например:@staticmethoddef my_static_method(): classmethod: принимает cls в качестве первого аргумента и может модифицировать состояние класса.</i>\n",
        "11. Как определить собственный класс исключений Python? Как выбросить и перехватить исключение?<i>Создается как производный от встроенного класса Exception: class MyException(Exception): pass</i>\n",
        "12. Что такое картеж, для чего он используется?<i>Картеж (tuple) — это не изменяемая последовательность, используемая для хранения коллекции объектов.</i>\n"
      ]
    }
  ],
  "metadata": {
    "language_info": {
      "name": "python"
    },
    "colab": {
      "provenance": [],
      "include_colab_link": true
    },
    "kernelspec": {
      "name": "python3",
      "display_name": "Python 3"
    }
  },
  "nbformat": 4,
  "nbformat_minor": 0
}