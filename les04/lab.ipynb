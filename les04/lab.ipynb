{
  "cells": [
    {
      "cell_type": "markdown",
      "metadata": {
        "id": "5BKPROZisEi4"
      },
      "source": [
        "# Лабораторная работа №4.\n",
        "# Анализ данных пассажиров \"Титаника\"\n",
        "\n",
        "Гибель Титаника – одно из самых печально известных кораблекрушений в истории.\n",
        "\n",
        "15 апреля 1912 года во время своего первого плавания считавшийся «непотопляемым» «Титаник» затонул после столкновения с айсбергом.\n",
        "К сожалению, спасательных шлюпок для всех находившихся на борту не хватило, в результате чего погибли 1502 из 2224 пассажиров и членов экипажа.\n",
        "\n",
        "Используя набор данных titanic.csv выполните следующие 10 заданий."
      ]
    },
    {
      "cell_type": "code",
      "execution_count": null,
      "metadata": {
        "id": "e-Km_1sKsEi7"
      },
      "outputs": [],
      "source": [
        "import numpy as np\n",
        "import pandas as pd\n"
      ]
    },
    {
      "cell_type": "markdown",
      "metadata": {
        "id": "g1ZVF3_qsEi9"
      },
      "source": [
        "1. Создайте DataFarame из файла titanic.csv, в качестве индекса используйте столбец \"PassengerId\""
      ]
    },
    {
      "cell_type": "code",
      "execution_count": null,
      "metadata": {
        "id": "RaULR_RxsEi9"
      },
      "outputs": [],
      "source": [
        "# Ваш код здесь"
      ]
    },
    {
      "cell_type": "markdown",
      "metadata": {
        "id": "o6OtbqeLsEi-"
      },
      "source": [
        "2. Просмотрите первые 6 строк"
      ]
    },
    {
      "cell_type": "code",
      "execution_count": null,
      "metadata": {
        "id": "kMa1JYLcsEi-"
      },
      "outputs": [],
      "source": [
        "# Ваш код здесь"
      ]
    },
    {
      "cell_type": "markdown",
      "metadata": {
        "id": "VZBoTSZtsEi_"
      },
      "source": [
        "3. Выведите описание данных"
      ]
    },
    {
      "cell_type": "code",
      "execution_count": null,
      "metadata": {
        "id": "egLh6z_2sEi_"
      },
      "outputs": [],
      "source": [
        "# Ваш код здесь"
      ]
    },
    {
      "cell_type": "markdown",
      "metadata": {
        "id": "SutxRv_KsEjA"
      },
      "source": [
        "4. Сколько мужчин / женщин находилось на борту?"
      ]
    },
    {
      "cell_type": "code",
      "execution_count": null,
      "metadata": {
        "id": "DWlesn44sEjA"
      },
      "outputs": [],
      "source": [
        "# Ваш код здесь"
      ]
    },
    {
      "cell_type": "markdown",
      "metadata": {
        "id": "6pOrqHfCsEjB"
      },
      "source": [
        "4. Выведите распределение переменной Pclass (социально-экономический статус) и это же распределение, только для мужчин / женщин по отдельности. Сколько было мужчин 2-го класса"
      ]
    },
    {
      "cell_type": "code",
      "execution_count": null,
      "metadata": {
        "id": "COMrjx_1sEjB"
      },
      "outputs": [],
      "source": [
        "# Ваш код здесь"
      ]
    },
    {
      "cell_type": "markdown",
      "metadata": {
        "id": "y46mTtK8sEjB"
      },
      "source": [
        "5. Каковы медиана и среднеквадрати́чное отклонение платежей (Fare)? Округлите до 2 десятичных знаков."
      ]
    },
    {
      "cell_type": "code",
      "execution_count": null,
      "metadata": {
        "id": "7Jv6lw4TsEjC"
      },
      "outputs": [],
      "source": [
        "# Ваш код здесь"
      ]
    },
    {
      "cell_type": "markdown",
      "metadata": {
        "id": "zH1xyuljsEjC"
      },
      "source": [
        "6. Правда ли, что люди моложе 30 лет выживали чаще, чем люди старше 60 лет? Каковы доли выживших в обеих группах?"
      ]
    },
    {
      "cell_type": "code",
      "execution_count": null,
      "metadata": {
        "id": "KlC3vAFusEjC"
      },
      "outputs": [],
      "source": [
        "# Ваш код здесь"
      ]
    },
    {
      "cell_type": "markdown",
      "metadata": {
        "id": "GnITX88bsEjC"
      },
      "source": [
        "7. Правда ли, что женщины выживали чаще мужчин? Каковы доли выживших в обеих группах?"
      ]
    },
    {
      "cell_type": "code",
      "execution_count": null,
      "metadata": {
        "id": "mE-_o0k-sEjD"
      },
      "outputs": [],
      "source": [
        "# Ваш код здесь"
      ]
    },
    {
      "cell_type": "markdown",
      "metadata": {
        "id": "7NeEvALHsEjD"
      },
      "source": [
        "8.  Найдите самое популярное имя среди пассажиров Титаника мужского пола?"
      ]
    },
    {
      "cell_type": "code",
      "execution_count": null,
      "metadata": {
        "id": "OWH3idfksEjD"
      },
      "outputs": [],
      "source": [
        "# Ваш код здесь"
      ]
    },
    {
      "cell_type": "markdown",
      "metadata": {
        "id": "5ufaMSgWsEjE"
      },
      "source": [
        "\n",
        "\n",
        "9. Как отличается средний возраст мужчин / женщин в зависимости от класса обслуживания? Выберите верные утверждения:\n",
        "\n",
        "    В среднем мужчины 1-го класса старше 40 лет\n",
        "    В среднем женщины 1-го класса старше 40 лет\n",
        "    Мужчины всех классов в среднем старше женщин того же класса\n",
        "    В среднем люди в 1 классе старше, чем во 2-ом, а те старше представителей 3-го класса\n",
        "\n"
      ]
    },
    {
      "cell_type": "code",
      "execution_count": null,
      "metadata": {
        "id": "iAhAlyd8sEjE"
      },
      "outputs": [],
      "source": [
        "# Ваш код здесь"
      ]
    },
    {
      "cell_type": "markdown",
      "metadata": {
        "id": "c5rvSygrsEjE"
      },
      "source": [
        "10. Сравните возраст у спасенных и у погибших пасажиров. Средний возраст погибших выше, верно?"
      ]
    },
    {
      "cell_type": "code",
      "execution_count": null,
      "metadata": {
        "id": "pFp4r6j2sEjE"
      },
      "outputs": [],
      "source": [
        "# Ваш код здесь"
      ]
    },
    {
      "cell_type": "markdown",
      "metadata": {
        "id": "qGpNaeY1sEjF"
      },
      "source": [
        "### Дополнительные вопросы для защиты\n",
        "\n",
        "1. Что такое медиана? Рассчитать медиану для предложенного ряда чисел.\n",
        "2. Что такое дисперсия? Рассчитать дисперсию для предложенного ряда чисел.\n",
        "3. Что такое среднеквадратичное отклонение? Рассчитать среднеквадратичное отклонение для предложенного ряда чисел.\n",
        "4. Что такое Series и чем он отличается от DataFrame\n",
        "5. Можно ли изменить индекс в Series после создания объекта?\n",
        "6. Можно ли выполнить операцию сложения над двумя объектами Series, если они имеют:\n",
        "- одинаковые типы данных, одинаковые размеры и одинаковые индексы?\n",
        "- одинаковые типы данных, одинаковые размеры, но разные индексы?,  \n",
        "- одинаковые типы данных, разные размеры и одинаковые индексы?\n",
        "- разные типы данных, одинаковые размеры и одинаковые индексы?\n",
        "- разные типы данных, одинаковые размеры и разные индексы?\n",
        "- разные типы данных, разные размеры и разные индексы?\n",
        "7. Что такое DataFrame и чем он отличается от Series\n",
        "8. Что необходимо сделать, чтобы число строк в DateFrame при его просмотре, по умолчанию составляло 8?\n",
        "9. Чем отличается метод iloc от метода loс\n",
        "10. Можно ли добавить в DateFrame дополнительный Series?\n",
        "11. Требуются ли установка дополнительных библиотек для загрузки с помощью pandas файлов в формате CSV? Excel (.xls)? Json?"
      ]
    }
  ],
  "metadata": {
    "kernelspec": {
      "display_name": "Python 3",
      "language": "python",
      "name": "python3"
    },
    "language_info": {
      "codemirror_mode": {
        "name": "ipython",
        "version": 3
      },
      "file_extension": ".py",
      "mimetype": "text/x-python",
      "name": "python",
      "nbconvert_exporter": "python",
      "pygments_lexer": "ipython3",
      "version": "3.12.2"
    },
    "colab": {
      "provenance": []
    }
  },
  "nbformat": 4,
  "nbformat_minor": 0
}